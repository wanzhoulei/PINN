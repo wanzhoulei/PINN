{
 "cells": [
  {
   "cell_type": "markdown",
   "metadata": {},
   "source": [
    "## True Solution\n",
    "The solution of the function for Gauss Newton, $H^1$, $H^{-1}$, $\\dot{H}^1$, $\\dot{H}^{-1}$ natural gradient descent is:\n",
    "$$u(x, y) = sin(\\pi x)sin(\\pi y) + sin(3\\pi x)sin(3\\pi y)$$\n",
    "For Fisher-Rao and $W_1$ natural gradient descent, the truth function is:\n",
    "$$u(x, y) = sin(\\pi x)sin(\\pi y) + sin(3\\pi x)sin(3\\pi y)+ 3$$"
   ]
  },
  {
   "cell_type": "markdown",
   "metadata": {},
   "source": [
    "## Poisson Equation \n",
    "All 7 algorithms have the same 2D Poisson equation and the same RHS function f:\n",
    "$$u_{xx} + u_{yy} = f = -2\\pi^2sin(\\pi x)sin(\\pi y) - 18\\pi^2 sin(3\\pi x)sin(3\\pi y)$$"
   ]
  },
  {
   "cell_type": "markdown",
   "metadata": {},
   "source": [
    "## Data and Discretization\n",
    "The data frame we use is a square: $[-1, 1] \\times [-1, 1]$. We evenly discretize this frame into 50 by 50 data points. We have 196 boundary points and 2304 colocation points. The plot of the data points are shown below."
   ]
  },
  {
   "cell_type": "code",
   "execution_count": 2,
   "metadata": {},
   "outputs": [
    {
     "data": {
      "image/png": "[encoded data removed]",
      "text/plain": [
       "<Figure size 432x288 with 1 Axes>"
      ]
     },
     "metadata": {
      "needs_background": "light"
     },
     "output_type": "display_data"
    }
   ],
   "source": [
    "from PINN2D_tool import *\n",
    "X_f_train, X_u_train, u_train = gridData(50)\n",
    "plotData(X_f_train, X_u_train)"
   ]
  },
  {
   "cell_type": "markdown",
   "metadata": {},
   "source": [
    "## PINN Architecture\n",
    "We used PINN of shape (2, 20, 30, 20, 1). The activation functions are all tanh function. \n",
    "\n",
    "### Parameter Initialization\n",
    "The weights of the PINN are initialized using Gaussian distributions. For weights $w$ between two layers, in which input dimension is $d_1$ and output dimension is $d_2$, $w$ satisfies:\n",
    "$$w \\sim N(0, \\frac{2}{d_1 + d_2})$$\n",
    "\n",
    "For Gauss Newton, $H^1$, $H^{-1}$, $\\dot{H}^1$, $\\dot{H}^{-1}$ natural gradient descent, the biases are all initialized to be 0. For Fisher-Rao and $w_2$ natural gradient descent, all biases are initialized to bw zero, except the biases in the last layer, which are inialized to be 3. \n",
    "\n",
    "We use a random seed to generate these weights parameters. Fixing the random seed, the initial parameter of the PINN are identity for all algorithms and experiments. But note that the biases in the last layer for Fisher-Rao and $W_2$ natural gradient descent are different from other algoroithms. "
   ]
  },
  {
   "cell_type": "markdown",
   "metadata": {},
   "source": [
    "## Hyperparameters\n",
    "#### Weight $\\gamma$ in loss function\n",
    "The loss function is created by a linear combination of the loss of colocation points and boundary points. Suppose the colocation loss is $loss_{f}$ and the boundary points loss is $loss_u$, the total loss is:\n",
    "$$loss = \\gamma  loss_u + (2-\\gamma)  loss_f$$\n",
    "Since there is a magnitude separation between the boundary loss and the colocation loss, we use $\\gamma = 1.99$ to add more weights on the boundary points to impose the boudnary condition.\n",
    "\n",
    "#### Number of iterations\n",
    "We did 2000 iterations for all 7 algorithms.\n",
    "\n",
    "#### Damping factor\n",
    "We used damping factor $\\alpha=0$ for all natural gradient descent algorithms.\n",
    "\n",
    "#### Random Seed\n",
    "We use random seed 0 to generate the initial parameters."
   ]
  },
  {
   "cell_type": "code",
   "execution_count": null,
   "metadata": {},
   "outputs": [],
   "source": []
  },
  {
   "cell_type": "code",
   "execution_count": null,
   "metadata": {},
   "outputs": [],
   "source": []
  }
 ],
 "metadata": {
  "kernelspec": {
   "display_name": "Python 3",
   "language": "python",
   "name": "python3"
  },
  "language_info": {
   "codemirror_mode": {
    "name": "ipython",
    "version": 3
   },
   "file_extension": ".py",
   "mimetype": "text/x-python",
   "name": "python",
   "nbconvert_exporter": "python",
   "pygments_lexer": "ipython3",
   "version": "3.7.4"
  }
 },
 "nbformat": 4,
 "nbformat_minor": 2
}
